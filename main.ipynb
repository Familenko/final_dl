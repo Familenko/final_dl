{
  "cells": [
    {
      "cell_type": "code",
      "execution_count": 2,
      "metadata": {},
      "outputs": [
        {
          "name": "stderr",
          "output_type": "stream",
          "text": [
            "/Users/aleksejkitajskij/Library/Mobile Documents/com~apple~CloudDocs/Programing/GoIT_projects/deep learning/final_DL/train_models.py:6: TqdmExperimentalWarning: Using `tqdm.autonotebook.tqdm` in notebook mode. Use `tqdm.tqdm` instead to force console mode (e.g. in jupyter console)\n",
            "  from tqdm.autonotebook import tqdm\n"
          ]
        }
      ],
      "source": [
        "import torch\n",
        "import torch.nn as nn\n",
        "import torch.optim as optim\n",
        "from torch.utils.data import Dataset, DataLoader, Subset\n",
        "from torchvision import models, transforms\n",
        "import pandas as pd\n",
        "from PIL import Image\n",
        "from sklearn.feature_extraction.text import TfidfVectorizer\n",
        "from sklearn.model_selection import train_test_split\n",
        "from sklearn.preprocessing import LabelEncoder\n",
        "import numpy as np\n",
        "\n",
        "from train_models import ClassifierTrainer\n",
        "from text_utils import normalize_text\n",
        "from callbacks import EarlyStoppingCallback, ReduceLROnPlateauCallback, LRSchedulerCallback"
      ]
    },
    {
      "cell_type": "code",
      "execution_count": 2,
      "metadata": {},
      "outputs": [],
      "source": [
        "DEVICE = 'cpu'\n",
        "BATCH_SIZE = 8\n",
        "NUM_CLASSES = 4\n",
        "IMG_SIZE = 224"
      ]
    },
    {
      "cell_type": "code",
      "execution_count": 3,
      "metadata": {},
      "outputs": [],
      "source": [
        "df = pd.read_csv(\"data/train.csv\")"
      ]
    },
    {
      "cell_type": "markdown",
      "metadata": {},
      "source": [
        "<a id=\"1\"></a>\n",
        "# <div style=\"text-align:center; border-radius:15px 50px; padding:7px; color:white; margin:0; font-size:110%; font-family:Pacifico; background-color:#0f7a7a; overflow:hidden\"><b>прописую шлях до всіх фото в датафрейм </b></div>"
      ]
    },
    {
      "cell_type": "markdown",
      "metadata": {},
      "source": [
        "берется тільки перше фото аби не ускладнювати код"
      ]
    },
    {
      "cell_type": "code",
      "execution_count": 4,
      "metadata": {},
      "outputs": [],
      "source": [
        "path_to_images = \"data/images/train/\"\n",
        "df['image_path'] = path_to_images + df['PetID'].astype(str) + \"-1.jpg\""
      ]
    },
    {
      "cell_type": "code",
      "execution_count": 5,
      "metadata": {},
      "outputs": [
        {
          "data": {
            "application/vnd.microsoft.datawrangler.viewer.v0+json": {
              "columns": [
                {
                  "name": "index",
                  "rawType": "int64",
                  "type": "integer"
                },
                {
                  "name": "PetID",
                  "rawType": "object",
                  "type": "string"
                },
                {
                  "name": "Description",
                  "rawType": "object",
                  "type": "unknown"
                },
                {
                  "name": "AdoptionSpeed",
                  "rawType": "int64",
                  "type": "integer"
                },
                {
                  "name": "image_path",
                  "rawType": "object",
                  "type": "string"
                }
              ],
              "ref": "c5529c6b-b257-491b-b044-13e1554c30fd",
              "rows": [
                [
                  "0",
                  "d3b4f29f8",
                  "Mayleen and Flo are two lovely adorable sisters. They are very friendly and affectionate, but wary of strangers and make good watchdogs. Mayleen has golden hues on her face, making her a husky look-alike. Flo has a darker face with brown feet, and is the more outgoing and dominat of the two. Looking for good homes. Adopters must vaccinate and spay them.",
                  "2",
                  "data/images/train/d3b4f29f8-1.jpg"
                ],
                [
                  "1",
                  "e9dc82251",
                  "A total of 5 beautiful Tabbys available for adoption. Orange Tabbys and Grey Tabbys. They are all approx 6 weeks old and without any injuries, healthy and playful. Free spaying and neutering can be arrange for owners who adopts them. For more info, please contact Ms  as the kitties are all with her now.",
                  "2",
                  "data/images/train/e9dc82251-1.jpg"
                ],
                [
                  "2",
                  "8111f6d4a",
                  "Two-and-a-half month old girl. Very manja and cute.",
                  "2",
                  "data/images/train/8111f6d4a-1.jpg"
                ],
                [
                  "3",
                  "693a90fda",
                  "Neil is a healthy and active ~2-month-old female kitten who was found together with her mother and siblings. She has weaned and is now ready for a loving home. Please e-mail me for inquiries. Thank you.",
                  "2",
                  "data/images/train/693a90fda-1.jpg"
                ],
                [
                  "4",
                  "9d08c85ef",
                  "Gray kitten available for adoption in sungai petani. Looking for a home with loving responsible owner . No caging pls. There a five similar kittens all together but am posting up 2 first since pic of the others are not available.",
                  "2",
                  "data/images/train/9d08c85ef-1.jpg"
                ],
                [
                  "5",
                  "45af03266",
                  "the cat is a stray cat and i found it at my home's parking lot. one of it leg has a serious injury as it is crushed due to the accident. i had bought it to the vet and the leg had been amputated so, it live with three legs now. So, i hope that anyone could adopt this cat as she need care and good condition of shelter for it to fully recover. i cant keep it at my house because there's a regulation that pets are not allowed in my housing area",
                  "4",
                  "data/images/train/45af03266-1.jpg"
                ],
                [
                  "6",
                  "01a07b591",
                  "Litter-trained, always wants to be given love and healthy but she tends to scratch herself around the neck and gives herself wounds. Her body is fine, it is usually her neck that is affected. I have brought to several vets multiple times but as it is not an actual sickness, they cannot help. Her wounds are self-inflicted. Unfortunately, I am not an experienced cat owner and am not able to take care of her as well as I should be. So I am looking for a cat-lover and someone who is able and willing to take care of her. Please refer to the photos to see an example of her wound.",
                  "1",
                  "data/images/train/01a07b591-1.jpg"
                ],
                [
                  "7",
                  "10e723583",
                  "A cute female puppy was found by my worker near my office -- Bingo She is a cute, adorable, active, energetic, but never consider naughty. We are trying to look for her a lovely home. Anyone who wish to give Bingo a home and love, please email to:  ,com or add me to your Msger or MSN Tell us you name, place, and whether u agree the terms and condition which listed below. Terms and Condition: The person who want to adopt the dog 1) Have to stay in landed property and not condo, apartment, flat or shop-lot. 2) Apply license for the dog and renew the license annually. 3) Have to bring the dog for vaccination. 4) Have to do heartworm prevention and deworming. 5) Have to neuter the dog.",
                  "3",
                  "data/images/train/10e723583-1.jpg"
                ],
                [
                  "8",
                  "324266c95",
                  "Cloe was born on 17. March . She is a very beautiful, playful, three colored Female, with long tail. Toilette trained, Dewormed and very healthy. Before pick up i send her to the Vet for Vaccination. If you are able to take care of her, give her food, play with her, bring her to the vet and let her stay in your House without CAGE!!!... you can call me to visit Cloe. (fee is RM 65) She stay with a dog, me and my Family in a Non-Halal House! Please NO CAGE!!! She is not a TOY",
                  "2",
                  "data/images/train/324266c95-1.jpg"
                ],
                [
                  "9",
                  "b6fbfa344",
                  "Profile Ringkas: Name: Mama Kin Age: Adult cat.Probably 1 year and half. Condition: Healthy and Pregnant (Probably will deliver in early May). Believed that this is not the first time she is pregnant. Characteristics: Adorable. Soft. Very affectionate dan sangat manja. Likes to purr a lot. Likes to roll her self on the floor:) Sangat comel bila dia golek-golekkan badan dia atas lantai;) Likes to clean herself frequently. Even with a bulging stomach, she is still a playful mama and like to play:) Why she needs to be adopted asap: Cause the Cat Catcher of my hostel block has started their cat cat catching operation and they may take Mama Kin away to unknown-unsafe place..worse, according to the Cat Catcher,the cats that they have captured will be taken to the zoo negara. Mama Kin's story: Mama Kin is a stray cat that came to my hostel block about two months ago, out of nowhere, right after Mega and her kids have left us. When we started to approach Mama Kin, we noticed that she is an adult cat and she is also pregnant. Without any bias or judgment, yet with with warm hearts, we welcome her to our lives and to this hostel block. Kami namakan dia Mama Kin sebab kaki dia ada 'white spots' that make her looks as if dia pakai stokin;) She is a pretty, adorable and cute pregnant mummy cat. She has been a very good and affectionate cat too. Dia sangat manja. She likes to purr a lot every time I play with her, caress her head, stroke her fur and give her some food. Despite the fact that we love having her around, we know that \"some people\" don't like it. Dan \"some people\" yang dimaksudkan di sini ialah \"the hostel management people\". Just like other cases of cats in this hostel block, we do fear that Mama Kin will be taken away by the Cat Catcher assigned by the hostel management sooner or later. Kalau kucing-kucing ini diambil dan dibawa ke tempat seperti SPCA ke, saya tak kisah. But the Cat Catcher once told me that the cats that he has captured will be brought to zoo negara or somewhere unknown. I totally don't want these cats to be taken to zoo negara or anywhere else that's not safe. Therefore, me and my friends realize that one day we need to find Mama Kin a new owner and release her from this \"cat hater\" place. So, we at first plan to give her away for adoption after she has given birth. Unfortunately, the day that we fear has come. This morning, the Cat Catcher came to my hostel and he and the team searched high and low for any cats, just any cats whether it's the one that has been neutered or not. However, thank God, Alhamdulillah and I'm so grateful that some of my friends who are also cat lovers managed to act quickly and managed to save and hide other cats in some rooms and Mama Kin is now hiding in my room. And this is not the end. They will come again soon cause they know, the cats that they are searching for are not captured today. With all this panic moment and in such dangerous state, I think I can't wait until Mama Kin has delivered. I can't wait after her delivery. It's going to take longer time and her life is 'at stake' now, if I may put it that way. So, I'm putting up Mama Kin's profile in here, so that anybody who's a true cat lover, kind-hearted, considerate and caring out there could have the heart to adopt her. Please... Yes, she is pregnant. And the person who would love to adopt her must be the one who is prepared and ready for new comers. If that person doesn't plan to have them all, perhaps you could be patient for awhile and later, you could give them away for adoption once the kittens are big enough. I'm searching for someone who really really appreciates cats whether they are adults or kittens. Why I say this is because, when I 'advertise' Mega and her kitten not long ago,I found out some people like to have the kittens yet abandon the mother. There was this one couple who intended to adopt Mega and one of her kittens. Tapi this couple told me that they live in an apartment. So what they plan to do is to keep the kitten but put Mega downstairs with other stray cats. Kalau macam tu, apa guna saya iklankan untuk Mega di'adopt'. Baik saya 'buang' saja Mega ke zoo negara seperti yang dilakukan oleh Cat Catcher di hostel block saya ni. So, basically, all I'm asking and hoping for is to have a cat lover who is responsible and caring to take good care of the pregnant and adorable Mama Kin which deserves to feel loved and be happy in a safer place, as soon as possible. That's all. Please... Thank you=)",
                  "2",
                  "data/images/train/b6fbfa344-1.jpg"
                ],
                [
                  "10",
                  "8df0bb3b3",
                  "Mochi, momo and Molly are siblings, about 3 months old, black and white patches cute little babies, they are toilet trained potty on newspapers. Mochi was found in the bushes on 14/4/14 Sunday morning, siblings reunion with momo and Molly on 23/4/14 morning. They are healthy, playful and love human companion very much, Mochi has received the 1st vaccination on 16/4/14 wed and dewormed, momo and Molly will be receiving theirs next week. Interested adopter can adopt anyone of them or all of them, please call or what's app fosterer . Before you decided to take them as a new family member please go through the terms and conditions for adoption : 1) must agree on neutering when they reach 6th month old. 2) no adoption fees needed, however an amount of rm will be collected to keep aside for neutering fees in future. 3) provide sufficient space to run around, no caging and tying up in the house whole area and allow indoor. 4) allow home visit from foster/rescuer to visit until they are comfortable living with adopter in new environment, it should be arranged at least once a month. 5) able to provide basic medical treatments when they fall sick as well as complete the initial 3 vaccinations follow by yearly vaccination. 6) other members in the family must be informed and agree for this adoption.",
                  "3",
                  "data/images/train/8df0bb3b3-1.jpg"
                ],
                [
                  "11",
                  "a05e81f9f",
                  "hi i am a student . lately i have some trouble in terms of financial and space to accomodate the cats. These are 4 healthy playful kittens i have. if it were not due to this problem , i will take care of them forever. I really hope somebody caring and loving enough can adopt them . thanks",
                  "4",
                  "data/images/train/a05e81f9f-1.jpg"
                ],
                [
                  "12",
                  "311479c63",
                  "healthy",
                  "1",
                  "data/images/train/311479c63-1.jpg"
                ],
                [
                  "13",
                  "11aa441fe",
                  "Lovely puppy looking for a home sweet home. If are intetested to adopt pls contact Rachel",
                  "3",
                  "data/images/train/11aa441fe-1.jpg"
                ],
                [
                  "14",
                  "25fc96414",
                  "Chamelia is a playful, doting puppy looking for a place call home. She and her sisters, Tea and Ocha, were abandoned at a vet last year. They love visitors and the chance to come out to play and stretch their legs. Neutering and vaccination cost will be covered. No tying up or caging for long hours. Please give them a loving home.",
                  "3",
                  "data/images/train/25fc96414-1.jpg"
                ],
                [
                  "15",
                  "a6783a1c6",
                  "Rescued this kitten near Cheras Perdana. Call me Kelly if you're interested to adopt.",
                  "4",
                  "data/images/train/a6783a1c6-1.jpg"
                ],
                [
                  "16",
                  "05aaee8ce",
                  "This lovely cat belong to my friend. She ask me to sell her cats because she's going for overseas for years to further her studies. Nobody going to take care of her. Miro is very friendly, playful and cheerful. Pls if anyone want her..pls take the mother (Kiki) too.",
                  "1",
                  "data/images/train/05aaee8ce-1.jpg"
                ],
                [
                  "17",
                  "1d3dd0cb8",
                  "Adopt from homeless place. Now cat are healthy and ready for adoption",
                  "4",
                  "data/images/train/1d3dd0cb8-1.jpg"
                ],
                [
                  "18",
                  "f20fa5c38",
                  "Dear all ,we just found this pup in off area & there's no mama dog around,we believe it must been abandoned by someone ... we hope to find her a sweet home .. Please contact me if u are interested to adopt this little angel :)",
                  "2",
                  "data/images/train/f20fa5c38-1.jpg"
                ],
                [
                  "19",
                  "b8bc0c25c",
                  "Female twins rescued nearby my apartment. They're very attached together and is looking for an owner who would provide them a shelter together. :)",
                  "4",
                  "data/images/train/b8bc0c25c-1.jpg"
                ],
                [
                  "20",
                  "8f45b9967",
                  "read about this kitten at",
                  "1",
                  "data/images/train/8f45b9967-1.jpg"
                ],
                [
                  "21",
                  "b7f7e01c6",
                  "Nile is playful & independent",
                  "3",
                  "data/images/train/b7f7e01c6-1.jpg"
                ],
                [
                  "22",
                  "f41a7de83",
                  "Remember my friend – ADOPT, DON’T BUY! Keep in mind that a pet is a LIFETIME commitment. 杜绝繁殖，领养，不购买! 谨记，宠物是一辈子的责任，领养不弃养。 - - - - - - - - - - - - - - - - - - - - This cute Doggie is a homeless dog at Puchong, Selangor and taken care of by a kind rescuer. Please direct contact the rescuer at the number below if you're able to give her a home. Please give her a chance tq. Madge Yong 杨韵姗 可爱的浪浪狗狗在蒲種, 雪兰莪被爱心姐姐照顾着，可以给他一个好家的朋友，请直接联系以上号码，给他一个机会，感恩 - - - - - - - - - - - - - - - - - - - - Interested to adopt? Kindly read our requirements: - Strictly NO tying/caging for long period - Agree to bring her for yearly vaccination - Provide balanced meals and fresh water all the time - Allow for home visit - Love and treat her like your own precious family members 想领养的朋友请确保能履行基本的主人责任: - 不能长时间关 / 绑狗狗，他们需要基本的自由 - 必须同意为他注射例行预防针 - 提供营养均衡的饮食和干净食水 - 同意义工们上门探访 - 把他视为家人，好好的用爱对待他 Please give her a home.",
                  "4",
                  "data/images/train/f41a7de83-1.jpg"
                ],
                [
                  "23",
                  "e7e2eca9e",
                  "very loving kitten and loves to eat :D",
                  "4",
                  "data/images/train/e7e2eca9e-1.jpg"
                ],
                [
                  "24",
                  "f2f8667a2",
                  "Hello, this is Vanilla, she is a pup of my pet dog. we gave her to her current owner since she was three months old. Unfortunately, now the owner can no longer take care of her due to family issue. So we need to find her another owner. She is loving, cute and active. Please take her in if you consider to breed a dog as she can be good companion and gate watcher. Vanilla is in need a permanent home, if anyone interested please let me know on.",
                  "2",
                  "data/images/train/f2f8667a2-1.jpg"
                ],
                [
                  "25",
                  "54b687d7c",
                  "Very mischievous kitten, playful healthy and cute",
                  "2",
                  "data/images/train/54b687d7c-1.jpg"
                ],
                [
                  "26",
                  "6438c6b3f",
                  "Hello, Halo, HI HI, Hatrick are firsky puppies that will enlighten you days!",
                  "4",
                  "data/images/train/6438c6b3f-1.jpg"
                ],
                [
                  "27",
                  "831505752",
                  "Adorable and Playful Kitten for adoption, she needs LOVEssssss. If you are interested, please feel free to contact me.",
                  "2",
                  "data/images/train/831505752-1.jpg"
                ],
                [
                  "28",
                  "106128c56",
                  "Rozy is sociable and playful with her own kind. Initially shy with ppl but will warm up. If prepared to.give her a permanent home with love and care pls whatsapp or call Jocelyn at.",
                  "3",
                  "data/images/train/106128c56-1.jpg"
                ],
                [
                  "29",
                  "c8f5f9120",
                  "Rejected by a his own breeder who wanted him euthanised because he seems to have slight neurological problems, ie. he falls easily. Vet fostering him now, and after having put him on Neurobion (half tablet a day), he seems to be ok.",
                  "1",
                  "data/images/train/c8f5f9120-1.jpg"
                ],
                [
                  "30",
                  "671ffc570",
                  "Jack is a Jack Russell crossed. He is very friendly, active, playful, and joyful. He has four short legs and a stubby tail.Still it will wags vigourously atwhat delights him.You should see how he & his age gang troop around our garden & terrace.",
                  "3",
                  "data/images/train/671ffc570-1.jpg"
                ],
                [
                  "31",
                  "279ca5034",
                  "Jamie is a very nice dog. She is very obedient and gentle.",
                  "3",
                  "data/images/train/279ca5034-1.jpg"
                ],
                [
                  "32",
                  "f653550ac",
                  "Remember my friend – ADOPT, DON’T BUY! Keep in mind that a pet is a LIFETIME commitment. 杜绝繁殖，领养，不购买! 谨记，宠物是一辈子的责任，领养不弃养。 - - - - - - - - - - - - - - - - - - - - This cute Doggie is a homeless dog at Puchong, Selangor and taken care of by a kind rescuer. Please direct contact the rescuer at the number below if you're able to give him a home. Please give him a chance tq. Madge Yong 杨韵姗 可爱的浪浪狗狗在蒲種, 雪兰莪被爱心姐姐照顾着，可以给他一个好家的朋友，请直接联系以上号码，给他一个机会，感恩 - - - - - - - - - - - - - - - - - - - - Interested to adopt? Kindly read our requirements: - Strictly NO tying/caging for long period - Must agree to neuter and bring him for yearly vaccination - Provide balanced meals and fresh water all the time - Allow for home visit - Love and treat him like your own precious family members 想领养的朋友请确保能履行基本的主人责任: - 不能长时间关 / 绑狗狗，他们需要基本的自由 - 必须同意结扎 和每年为他注射例行预防针 - 提供营养均衡的饮食和干净食水 - 同意义工们上门探访 - 把他视为家人，好好的用爱对待他 Please give him a home.",
                  "4",
                  "data/images/train/f653550ac-1.jpg"
                ],
                [
                  "33",
                  "9dae4e297",
                  "Lovely puppy looking for a forever home. Commitment to spay is compulsory. If u are intetested to adopt pls contact Rachel",
                  "2",
                  "data/images/train/9dae4e297-1.jpg"
                ],
                [
                  "34",
                  "5925cf3fa",
                  "A beautiful young Husky is looking for a loving home. He is friendly and have special love for children. Living Needs - Adopter ideally needs to have large compound for the dog to run around. - We recommend to keep him in an airy condition and preferably indoor with an area of his own. - He craves for companion and loves to spend time with human. - Regular exercise is required - Please feel free to research more on Husky and their living style. You may also consult vet for advice. Adoption requirement : a) We don't charge for adoption fee but we seek for kibbles to be donated to our food supply in feeding the strays. 3 bag of combo at RM each and you may donate more if wish to. b) Neutering and vaccination will be done before surrender to adopter. This fee shall be borne by adopter. c) Adopter must be an animal lover and preferably have experience in handling dog. d) No long hour of caging or tied on leash. e) Provide necessary medical attention f) We would like to visit your house and surroundings before confirming the adoption. You can view the dog before deciding. Trial adoption is available.** If you keen to find out more, please contact me. ** Subject to terms and condition Update : Thank all for your interest. We have received overwhelming response. Adoption request is closed and we are happy to find him a good home. His new parents loved him and we wish Gatsby all the best and lead a happy life forever. We have other dogs and will be ready for rehome soon. Please favourite us.",
                  "2",
                  "data/images/train/5925cf3fa-1.jpg"
                ],
                [
                  "35",
                  "066498aa1",
                  "Hi everyone just got this message from a friend these 3 furkids need urgent home. They were adopted by their owner and was very well taken care but unfortunately she passed away of cancer. Her immediate family refuse to take these furkids in and wanted to put them to sleep. We are now trying our very best to get them adopted. If anyone wish to adopt them please contact me ASAP",
                  "3",
                  "data/images/train/066498aa1-1.jpg"
                ],
                [
                  "36",
                  "568a5ab51",
                  "The puppy is white colours with brown spots. It has short fur. The puppy located at KL area. I hope the animal adopter can help to adopt this puppy.",
                  "4",
                  "data/images/train/568a5ab51-1.jpg"
                ],
                [
                  "37",
                  "a65853183",
                  "Naranja has been adopted by kind Ija and Ashraff. God bless all of them.",
                  "2",
                  "data/images/train/a65853183-1.jpg"
                ],
                [
                  "38",
                  "3da55a076",
                  "Urgent adoption needed! 1 1/2 months. 1st : Grey- good looking male 2nd : Black & white- Male 3rd : all white- face a pretty grey shape-female Totally think these 3 kittens( this base) are all looking good!.)I feed them (with d mom cat-) since they are born. P/S:**PRIORITY only given 1st to adopters who willing to adopt at least 2 miaos. 3 would be Purrrfect but I know very hard to find. I ll accept If only take 1 but must wait after I pick the 1st adopter(who can take 2).These sibling kittens are always stick to each others & play together so i really feel sad if separate all 3! Please contact me if you are interested! Ms Cathy Lee Text & watapps. They deserve a loving family!! Thanks. FYI I'm staying at Wangsa Maju & I already hav 1 adult cat.3 years.",
                  "1",
                  "data/images/train/3da55a076-1.jpg"
                ],
                [
                  "39",
                  "48f20f515",
                  "Cute Browne is for adoption again cause the adopter have transfer to work at out station.Browne know how to behave herself and she is smart and playfully.If you are interested to adopt Browne Kindly contact Amy at.",
                  "2",
                  "data/images/train/48f20f515-1.jpg"
                ],
                [
                  "40",
                  "fe3d33ae1",
                  "Playful, active, cute and good boy",
                  "2",
                  "data/images/train/fe3d33ae1-1.jpg"
                ],
                [
                  "41",
                  "850a43f90",
                  "This handsome yet cute boy is up for adoption. He is the most playful pal we've seen in our puppies. He loves to nibble on shoelaces , Chase you at such a young age. Imagine what a cute brat he will be when he grows. We are looking for a loving home for Hunter , one that will take care of him and give him the love that he needs. Please call urgently if you would like to adopt this cutie.",
                  "2",
                  "data/images/train/850a43f90-1.jpg"
                ],
                [
                  "42",
                  "113204c87",
                  "-Healthy -Adorable -Playful -Loyal I hope if anyone of you kind people, please take them both together, they were born together and be with each other since small. I was unable to take care them anymore due to family issue, i hope someone will take them good care for me.. Contact - alvin",
                  "4",
                  "data/images/train/113204c87-1.jpg"
                ],
                [
                  "43",
                  "a8f43bea5",
                  "This doggie was found by my uncle said to be somewhere near Mont Kiara. Doesn't look like pure Shih Tzu. Very friendly, obedient and quiet. Limited information to provide.",
                  "2",
                  "data/images/train/a8f43bea5-1.jpg"
                ],
                [
                  "44",
                  "13296aae7",
                  "Please help me to find this puppy a home. She is a local breed puppy that we found in Taman Berkeley, Klang. She is less than 6 months old and currently being taken care of by my friend. We are taking care of her for almost 1 month plus now. This puppy is already dewormed and vaccinated. We really hope that someone will adopt her. She is a very smart, cute and adorable puppy! FYI, she is potty trained as well! Anyone who wishes to help and adopt her, please PM for more info. No adoption fee is required!Thanks a lot!! :)",
                  "4",
                  "data/images/train/13296aae7-1.jpg"
                ],
                [
                  "45",
                  "c59fe4bcd",
                  "mama dog gave birth to 4 puppies in bushes at construction area at puteri 10, bandar puteri puchong rescued on 20/4/14 sunday morning, the family have been sent to ministre of pets putra height and boarding there for the time being, puppies 3 boys and named tiger, bear bear, rusty, and 1 girl Rosie. All the puppies and mama dog hao hao are dewormed and received the 1st vaccination. Mama dog is friendly, has very good temperament, we carried her up into the car without leash, as a stray she is not aggressive at all, she will be spayed when she stop breast feed her puppies. All of them will be up for adoption as soon as puppies are able to have solid food and mama is spayed. interested adopter please call or whatsapp  for further details, thanks! Before you decided to take them as a new family member please go through the terms and conditions for adoption : 1) must agree on neutering when they reach 6th month old. 2) no adoption fees needed, however an amount of rm will be collected to keep aside for neutering fees in future. 3) provide sufficient space to run around, no caging and tying up in the house whole area and allow indoor. 4) allow home visit from foster/rescuer to visit until they are comfortable living with adopter in new environment, it should be arranged at least once a month. 5) able to provide basic medical treatments when they fall sick as well as complete the initial 3 vaccinations follow by yearly vaccination. 6) other members in the family must be informed and agree for this adoption.",
                  "2",
                  "data/images/train/c59fe4bcd-1.jpg"
                ],
                [
                  "46",
                  "abf1716a9",
                  "Cute and beautiful puppy looking for a home sweet home. Make a trip and visit her. She looks much nicer in real life. Commitment to spay is compulsory. If u are interested to adopt pls contact Rachel",
                  "3",
                  "data/images/train/abf1716a9-1.jpg"
                ],
                [
                  "47",
                  "9718baba0",
                  "Pooch was found by my mother being kept under very poor conditions in enclosed cement barrel with unsuitable food and no water (only cow's milk which is bad for puppies). Pooch has a bad case of mange and was initially pooping a lot of watery discharge. He was also initially very frightened. He was treated with mange medication for over a month and is now a healthy, happy and very active puppy. To know more about his story, please visit my blog here: If interested to adopt and give this happy pup a good home, please contact my mother Jocelyn at. Thank you!",
                  "2",
                  "data/images/train/9718baba0-1.jpg"
                ],
                [
                  "48",
                  "39ba962ef",
                  "Puppy about 4weeks+ female found at residence house area. healthy . the rescuer will pay the spay fees if u bring her to their clinic.",
                  "2",
                  "data/images/train/39ba962ef-1.jpg"
                ],
                [
                  "49",
                  "34edfc9d5",
                  "Cheeky was rescued from the local pound in Penang, Malaysia. She has a very good temperament. Friendly & obedient. Looking for a good forever home for her.",
                  "4",
                  "data/images/train/34edfc9d5-1.jpg"
                ]
              ],
              "shape": {
                "columns": 4,
                "rows": 6431
              }
            },
            "text/html": [
              "<div>\n",
              "<style scoped>\n",
              "    .dataframe tbody tr th:only-of-type {\n",
              "        vertical-align: middle;\n",
              "    }\n",
              "\n",
              "    .dataframe tbody tr th {\n",
              "        vertical-align: top;\n",
              "    }\n",
              "\n",
              "    .dataframe thead th {\n",
              "        text-align: right;\n",
              "    }\n",
              "</style>\n",
              "<table border=\"1\" class=\"dataframe\">\n",
              "  <thead>\n",
              "    <tr style=\"text-align: right;\">\n",
              "      <th></th>\n",
              "      <th>PetID</th>\n",
              "      <th>Description</th>\n",
              "      <th>AdoptionSpeed</th>\n",
              "      <th>image_path</th>\n",
              "    </tr>\n",
              "  </thead>\n",
              "  <tbody>\n",
              "    <tr>\n",
              "      <th>0</th>\n",
              "      <td>d3b4f29f8</td>\n",
              "      <td>Mayleen and Flo are two lovely adorable sister...</td>\n",
              "      <td>2</td>\n",
              "      <td>data/images/train/d3b4f29f8-1.jpg</td>\n",
              "    </tr>\n",
              "    <tr>\n",
              "      <th>1</th>\n",
              "      <td>e9dc82251</td>\n",
              "      <td>A total of 5 beautiful Tabbys available for ad...</td>\n",
              "      <td>2</td>\n",
              "      <td>data/images/train/e9dc82251-1.jpg</td>\n",
              "    </tr>\n",
              "    <tr>\n",
              "      <th>2</th>\n",
              "      <td>8111f6d4a</td>\n",
              "      <td>Two-and-a-half month old girl. Very manja and ...</td>\n",
              "      <td>2</td>\n",
              "      <td>data/images/train/8111f6d4a-1.jpg</td>\n",
              "    </tr>\n",
              "    <tr>\n",
              "      <th>3</th>\n",
              "      <td>693a90fda</td>\n",
              "      <td>Neil is a healthy and active ~2-month-old fema...</td>\n",
              "      <td>2</td>\n",
              "      <td>data/images/train/693a90fda-1.jpg</td>\n",
              "    </tr>\n",
              "    <tr>\n",
              "      <th>4</th>\n",
              "      <td>9d08c85ef</td>\n",
              "      <td>Gray kitten available for adoption in sungai p...</td>\n",
              "      <td>2</td>\n",
              "      <td>data/images/train/9d08c85ef-1.jpg</td>\n",
              "    </tr>\n",
              "    <tr>\n",
              "      <th>...</th>\n",
              "      <td>...</td>\n",
              "      <td>...</td>\n",
              "      <td>...</td>\n",
              "      <td>...</td>\n",
              "    </tr>\n",
              "    <tr>\n",
              "      <th>6426</th>\n",
              "      <td>440676acb</td>\n",
              "      <td>Puppy was rescued in the monsoon drain near my...</td>\n",
              "      <td>2</td>\n",
              "      <td>data/images/train/440676acb-1.jpg</td>\n",
              "    </tr>\n",
              "    <tr>\n",
              "      <th>6427</th>\n",
              "      <td>62550cf78</td>\n",
              "      <td>Please contact if you are interested.</td>\n",
              "      <td>1</td>\n",
              "      <td>data/images/train/62550cf78-1.jpg</td>\n",
              "    </tr>\n",
              "    <tr>\n",
              "      <th>6428</th>\n",
              "      <td>a062234cb</td>\n",
              "      <td>4/1/ An adorable domestic medium hair kitten l...</td>\n",
              "      <td>4</td>\n",
              "      <td>data/images/train/a062234cb-1.jpg</td>\n",
              "    </tr>\n",
              "    <tr>\n",
              "      <th>6429</th>\n",
              "      <td>7a54b760e</td>\n",
              "      <td>6 Jan :30: We found this poor dog (male) wande...</td>\n",
              "      <td>2</td>\n",
              "      <td>data/images/train/7a54b760e-1.jpg</td>\n",
              "    </tr>\n",
              "    <tr>\n",
              "      <th>6430</th>\n",
              "      <td>504ce7187</td>\n",
              "      <td>She is a very well behaved kitten who loves be...</td>\n",
              "      <td>2</td>\n",
              "      <td>data/images/train/504ce7187-1.jpg</td>\n",
              "    </tr>\n",
              "  </tbody>\n",
              "</table>\n",
              "<p>6431 rows × 4 columns</p>\n",
              "</div>"
            ],
            "text/plain": [
              "          PetID                                        Description  \\\n",
              "0     d3b4f29f8  Mayleen and Flo are two lovely adorable sister...   \n",
              "1     e9dc82251  A total of 5 beautiful Tabbys available for ad...   \n",
              "2     8111f6d4a  Two-and-a-half month old girl. Very manja and ...   \n",
              "3     693a90fda  Neil is a healthy and active ~2-month-old fema...   \n",
              "4     9d08c85ef  Gray kitten available for adoption in sungai p...   \n",
              "...         ...                                                ...   \n",
              "6426  440676acb  Puppy was rescued in the monsoon drain near my...   \n",
              "6427  62550cf78              Please contact if you are interested.   \n",
              "6428  a062234cb  4/1/ An adorable domestic medium hair kitten l...   \n",
              "6429  7a54b760e  6 Jan :30: We found this poor dog (male) wande...   \n",
              "6430  504ce7187  She is a very well behaved kitten who loves be...   \n",
              "\n",
              "      AdoptionSpeed                         image_path  \n",
              "0                 2  data/images/train/d3b4f29f8-1.jpg  \n",
              "1                 2  data/images/train/e9dc82251-1.jpg  \n",
              "2                 2  data/images/train/8111f6d4a-1.jpg  \n",
              "3                 2  data/images/train/693a90fda-1.jpg  \n",
              "4                 2  data/images/train/9d08c85ef-1.jpg  \n",
              "...             ...                                ...  \n",
              "6426              2  data/images/train/440676acb-1.jpg  \n",
              "6427              1  data/images/train/62550cf78-1.jpg  \n",
              "6428              4  data/images/train/a062234cb-1.jpg  \n",
              "6429              2  data/images/train/7a54b760e-1.jpg  \n",
              "6430              2  data/images/train/504ce7187-1.jpg  \n",
              "\n",
              "[6431 rows x 4 columns]"
            ]
          },
          "execution_count": 5,
          "metadata": {},
          "output_type": "execute_result"
        }
      ],
      "source": [
        "df"
      ]
    },
    {
      "cell_type": "markdown",
      "metadata": {},
      "source": [
        "<a id=\"1\"></a>\n",
        "# <div style=\"text-align:center; border-radius:15px 50px; padding:7px; color:white; margin:0; font-size:110%; font-family:Pacifico; background-color:#0f7a7a; overflow:hidden\"><b>нормалізуєтся текст</b></div>"
      ]
    },
    {
      "cell_type": "markdown",
      "metadata": {},
      "source": [
        "нормалізація проходить стандартним шляхом: видаленя пунктуацій, стопслів, лемізація слів і т.д."
      ]
    },
    {
      "cell_type": "code",
      "execution_count": 6,
      "metadata": {},
      "outputs": [
        {
          "data": {
            "application/vnd.microsoft.datawrangler.viewer.v0+json": {
              "columns": [
                {
                  "name": "index",
                  "rawType": "int64",
                  "type": "integer"
                },
                {
                  "name": "PetID",
                  "rawType": "object",
                  "type": "string"
                },
                {
                  "name": "Description",
                  "rawType": "object",
                  "type": "string"
                },
                {
                  "name": "AdoptionSpeed",
                  "rawType": "int64",
                  "type": "integer"
                },
                {
                  "name": "image_path",
                  "rawType": "object",
                  "type": "string"
                }
              ],
              "ref": "e8d974ce-a316-4771-9942-92f2761d0981",
              "rows": [
                [
                  "4331",
                  "216840542",
                  "male female puppy waiting adoption ipoh area",
                  "4",
                  "data/images/train/216840542-1.jpg"
                ],
                [
                  "2033",
                  "a6fc65f2d",
                  "find cat cry outside house neighbours yard hiding bush call cat come run there possibility might own he use people feed collar microchip he shy responsive wound leg vet say due fight another tom cat cat vet hell spay he neighbours cat ve already ask available adoption friday one claim",
                  "4",
                  "data/images/train/a6fc65f2d-1.jpg"
                ],
                [
                  "652",
                  "060d1de98",
                  "kldesa petale",
                  "4",
                  "data/images/train/060d1de98-1.jpg"
                ],
                [
                  "6404",
                  "9beedceb9",
                  "simba playful friendly boy healthy condition injure raise house vaccinate passport microchip willing provide additional thing like litter box feeding bowl etc",
                  "4",
                  "data/images/train/9beedceb9-1.jpg"
                ],
                [
                  "5614",
                  "ccd14639f",
                  "rescue puppy adoption puppy free adoption puppy put bucket neighbour discard look dog coco one coco good family dog loyal guardian require groom expensive dog food fear steal coco well know well loyal watch dog look house look keep dog know anyone want dog orchard need watch dog please contact free delivery seremban rantau port dickson area",
                  "3",
                  "data/images/train/ccd14639f-1.jpg"
                ]
              ],
              "shape": {
                "columns": 4,
                "rows": 5
              }
            },
            "text/html": [
              "<div>\n",
              "<style scoped>\n",
              "    .dataframe tbody tr th:only-of-type {\n",
              "        vertical-align: middle;\n",
              "    }\n",
              "\n",
              "    .dataframe tbody tr th {\n",
              "        vertical-align: top;\n",
              "    }\n",
              "\n",
              "    .dataframe thead th {\n",
              "        text-align: right;\n",
              "    }\n",
              "</style>\n",
              "<table border=\"1\" class=\"dataframe\">\n",
              "  <thead>\n",
              "    <tr style=\"text-align: right;\">\n",
              "      <th></th>\n",
              "      <th>PetID</th>\n",
              "      <th>Description</th>\n",
              "      <th>AdoptionSpeed</th>\n",
              "      <th>image_path</th>\n",
              "    </tr>\n",
              "  </thead>\n",
              "  <tbody>\n",
              "    <tr>\n",
              "      <th>4331</th>\n",
              "      <td>216840542</td>\n",
              "      <td>male female puppy waiting adoption ipoh area</td>\n",
              "      <td>4</td>\n",
              "      <td>data/images/train/216840542-1.jpg</td>\n",
              "    </tr>\n",
              "    <tr>\n",
              "      <th>2033</th>\n",
              "      <td>a6fc65f2d</td>\n",
              "      <td>find cat cry outside house neighbours yard hid...</td>\n",
              "      <td>4</td>\n",
              "      <td>data/images/train/a6fc65f2d-1.jpg</td>\n",
              "    </tr>\n",
              "    <tr>\n",
              "      <th>652</th>\n",
              "      <td>060d1de98</td>\n",
              "      <td>kldesa petale</td>\n",
              "      <td>4</td>\n",
              "      <td>data/images/train/060d1de98-1.jpg</td>\n",
              "    </tr>\n",
              "    <tr>\n",
              "      <th>6404</th>\n",
              "      <td>9beedceb9</td>\n",
              "      <td>simba playful friendly boy healthy condition i...</td>\n",
              "      <td>4</td>\n",
              "      <td>data/images/train/9beedceb9-1.jpg</td>\n",
              "    </tr>\n",
              "    <tr>\n",
              "      <th>5614</th>\n",
              "      <td>ccd14639f</td>\n",
              "      <td>rescue puppy adoption puppy free adoption pupp...</td>\n",
              "      <td>3</td>\n",
              "      <td>data/images/train/ccd14639f-1.jpg</td>\n",
              "    </tr>\n",
              "  </tbody>\n",
              "</table>\n",
              "</div>"
            ],
            "text/plain": [
              "          PetID                                        Description  \\\n",
              "4331  216840542       male female puppy waiting adoption ipoh area   \n",
              "2033  a6fc65f2d  find cat cry outside house neighbours yard hid...   \n",
              "652   060d1de98                                      kldesa petale   \n",
              "6404  9beedceb9  simba playful friendly boy healthy condition i...   \n",
              "5614  ccd14639f  rescue puppy adoption puppy free adoption pupp...   \n",
              "\n",
              "      AdoptionSpeed                         image_path  \n",
              "4331              4  data/images/train/216840542-1.jpg  \n",
              "2033              4  data/images/train/a6fc65f2d-1.jpg  \n",
              "652               4  data/images/train/060d1de98-1.jpg  \n",
              "6404              4  data/images/train/9beedceb9-1.jpg  \n",
              "5614              3  data/images/train/ccd14639f-1.jpg  "
            ]
          },
          "execution_count": 6,
          "metadata": {},
          "output_type": "execute_result"
        }
      ],
      "source": [
        "df['Description'] = df['Description'].apply(normalize_text)\n",
        "df.sample(5)"
      ]
    },
    {
      "cell_type": "code",
      "execution_count": 7,
      "metadata": {},
      "outputs": [],
      "source": [
        "le = LabelEncoder()\n",
        "df['AdoptionSpeed'] = le.fit_transform(df['AdoptionSpeed'])\n",
        "train_df, val_df = train_test_split(df, test_size=0.2, random_state=42)"
      ]
    },
    {
      "cell_type": "code",
      "execution_count": 8,
      "metadata": {},
      "outputs": [
        {
          "name": "stdout",
          "output_type": "stream",
          "text": [
            "<class 'pandas.core.frame.DataFrame'>\n",
            "Index: 5144 entries, 915 to 860\n",
            "Data columns (total 4 columns):\n",
            " #   Column         Non-Null Count  Dtype \n",
            "---  ------         --------------  ----- \n",
            " 0   PetID          5144 non-null   object\n",
            " 1   Description    5144 non-null   object\n",
            " 2   AdoptionSpeed  5144 non-null   int64 \n",
            " 3   image_path     5144 non-null   object\n",
            "dtypes: int64(1), object(3)\n",
            "memory usage: 200.9+ KB\n"
          ]
        }
      ],
      "source": [
        "train_df.info()"
      ]
    },
    {
      "cell_type": "markdown",
      "metadata": {},
      "source": [
        "<a id=\"1\"></a>\n",
        "# <div style=\"text-align:center; border-radius:15px 50px; padding:7px; color:white; margin:0; font-size:110%; font-family:Pacifico; background-color:#0f7a7a; overflow:hidden\"><b>підготовка трансформерів </b></div>"
      ]
    },
    {
      "cell_type": "code",
      "execution_count": 9,
      "metadata": {},
      "outputs": [],
      "source": [
        "tfidf = TfidfVectorizer(max_features=500)\n",
        "tfidf.fit(train_df['Description'])\n",
        "\n",
        "img_transforms = transforms.Compose([\n",
        "    transforms.Resize((IMG_SIZE, IMG_SIZE)),\n",
        "    transforms.ToTensor(),\n",
        "    transforms.Normalize(mean=[0.485, 0.456, 0.406], std=[0.229, 0.224, 0.225]),\n",
        "])"
      ]
    },
    {
      "cell_type": "markdown",
      "metadata": {},
      "source": [
        "<a id=\"1\"></a>\n",
        "# <div style=\"text-align:center; border-radius:15px 50px; padding:7px; color:white; margin:0; font-size:110%; font-family:Pacifico; background-color:#0f7a7a; overflow:hidden\"><b>підготовка батчів</b></div>"
      ]
    },
    {
      "cell_type": "code",
      "execution_count": 10,
      "metadata": {},
      "outputs": [],
      "source": [
        "class PetDataset(Dataset):\n",
        "    def __init__(self, df, tfidf, transform, is_test=False):\n",
        "        self.df = df.reset_index(drop=True)\n",
        "        self.tfidf = tfidf\n",
        "        self.transform = transform\n",
        "        self.is_test = is_test\n",
        "\n",
        "    def __len__(self):\n",
        "        return len(self.df)\n",
        "\n",
        "    def __getitem__(self, idx):\n",
        "        row = self.df.iloc[idx]\n",
        "        try:\n",
        "            img = Image.open(row['image_path']).convert('RGB')\n",
        "        except FileNotFoundError:\n",
        "            print(f\"Image not found: {row['image_path']}\")\n",
        "            img = Image.new('RGB', (IMG_SIZE, IMG_SIZE), (255, 255, 255))\n",
        "        img = self.transform(img)\n",
        "\n",
        "        text = self.tfidf.transform([row['Description']]).toarray().squeeze()\n",
        "        text = torch.tensor(text, dtype=torch.float32)\n",
        "\n",
        "        sample = {'image': img, 'text': text}\n",
        "\n",
        "        if not self.is_test:\n",
        "            sample['label'] = torch.tensor(row['AdoptionSpeed'], dtype=torch.long)\n",
        "\n",
        "        return sample\n",
        "\n",
        "\n",
        "train_ds = PetDataset(train_df, tfidf, img_transforms)\n",
        "val_ds = PetDataset(val_df, tfidf, img_transforms)\n",
        "train_loader = DataLoader(train_ds, batch_size=BATCH_SIZE, shuffle=True)\n",
        "val_loader = DataLoader(val_ds, batch_size=BATCH_SIZE)"
      ]
    },
    {
      "cell_type": "markdown",
      "metadata": {},
      "source": [
        "<a id=\"1\"></a>\n",
        "# <div style=\"text-align:center; border-radius:15px 50px; padding:7px; color:white; margin:0; font-size:110%; font-family:Pacifico; background-color:#0f7a7a; overflow:hidden\"><b>побудова моделі </b></div>"
      ]
    },
    {
      "cell_type": "code",
      "execution_count": 11,
      "metadata": {},
      "outputs": [
        {
          "data": {
            "text/plain": [
              "512"
            ]
          },
          "execution_count": 11,
          "metadata": {},
          "output_type": "execute_result"
        }
      ],
      "source": [
        "resnet18_model = models.resnet18(weights='IMAGENET1K_V1')\n",
        "resnet18_model.fc = nn.Identity()\n",
        "x = torch.randn(1, 3, 224, 224) # рандомна матриця для проходження через модель з параметрами зображення\n",
        "with torch.no_grad():\n",
        "    features = resnet18_model(x)\n",
        "\n",
        "pretreined_model_output_shape = features.shape[1]\n",
        "pretreined_model_output_shape"
      ]
    },
    {
      "cell_type": "code",
      "execution_count": 12,
      "metadata": {},
      "outputs": [],
      "source": [
        "class AdoptionModel(nn.Module):\n",
        "    def __init__(self, text_dim=500, num_classes=4):\n",
        "        super().__init__()\n",
        "        self.cnn = resnet18_model\n",
        "\n",
        "        self.text_net = nn.Sequential(\n",
        "            nn.Linear(text_dim, 128),\n",
        "            nn.ReLU(),\n",
        "        )\n",
        "\n",
        "        self.classifier = nn.Sequential(\n",
        "            nn.Linear(pretreined_model_output_shape + 128, 128),\n",
        "            nn.ReLU(),\n",
        "            nn.Dropout(0.2),\n",
        "            nn.Linear(128, num_classes)\n",
        "        )\n",
        "\n",
        "    def forward(self, inputs):\n",
        "        image, text = inputs\n",
        "        img_feat = self.cnn(image)\n",
        "        txt_feat = self.text_net(text)\n",
        "        x = torch.cat((img_feat, txt_feat), dim=1)\n",
        "        return self.classifier(x)"
      ]
    },
    {
      "cell_type": "markdown",
      "metadata": {},
      "source": [
        "<a id=\"1\"></a>\n",
        "# <div style=\"text-align:center; border-radius:15px 50px; padding:7px; color:white; margin:0; font-size:110%; font-family:Pacifico; background-color:#0f7a7a; overflow:hidden\"><b>налаштування трейнера </b></div>"
      ]
    },
    {
      "cell_type": "markdown",
      "metadata": {},
      "source": [
        "використовуватимется мій кастомний трейнер, який я намагався зробити універсальним. проте оскільки в моделі буде відбуватись входження двох інпутів (тексту та зображення) необхідно перевизначити метод _parse_batch"
      ]
    },
    {
      "cell_type": "code",
      "execution_count": 13,
      "metadata": {},
      "outputs": [],
      "source": [
        "class AdoptionTrainer(ClassifierTrainer):\n",
        "    def _parse_batch(self, batch):\n",
        "        images = batch['image'].to(self.device)\n",
        "        texts = batch['text'].to(self.device)\n",
        "        labels = batch['label'].to(self.device)\n",
        "        return (images, texts), labels, None"
      ]
    },
    {
      "cell_type": "markdown",
      "metadata": {},
      "source": [
        "<a id=\"1\"></a>\n",
        "# <div style=\"text-align:center; border-radius:15px 50px; padding:7px; color:white; margin:0; font-size:110%; font-family:Pacifico; background-color:#0f7a7a; overflow:hidden\"><b>тренування </b></div>"
      ]
    },
    {
      "cell_type": "code",
      "execution_count": 14,
      "metadata": {},
      "outputs": [
        {
          "data": {
            "application/vnd.jupyter.widget-view+json": {
              "model_id": "f9dd6ecfacd2408dbc8ae209e25e96c5",
              "version_major": 2,
              "version_minor": 0
            },
            "text/plain": [
              "  0%|          | 0/1 [00:00<?, ?it/s]"
            ]
          },
          "metadata": {},
          "output_type": "display_data"
        },
        {
          "name": "stdout",
          "output_type": "stream",
          "text": [
            "Epoch [1/1] Train Loss: 1.2959 Acc: 0.3541 Rec: 0.3541 Prec: 0.3639\n",
            "Epoch [1/1] Val Loss: 1.2304 Acc: 0.4018 Rec: 0.4018 Prec: 0.4038\n"
          ]
        }
      ],
      "source": [
        "criterion = nn.CrossEntropyLoss()\n",
        "model = AdoptionModel()\n",
        "optimizer = optim.Adam(model.parameters(), lr=1e-4)\n",
        "\n",
        "trainer = AdoptionTrainer(\n",
        "    model=model,\n",
        "    criterion=criterion,\n",
        "    optimizer=optimizer,\n",
        "    num_classes=NUM_CLASSES,\n",
        "    device=DEVICE\n",
        ")\n",
        "\n",
        "trainer.fit(train_loader, val_loader, num_epoch=1)"
      ]
    },
    {
      "cell_type": "markdown",
      "metadata": {},
      "source": [
        "<a id=\"1\"></a>\n",
        "# <div style=\"text-align:center; border-radius:15px 50px; padding:7px; color:white; margin:0; font-size:110%; font-family:Pacifico; background-color:#0f7a7a; overflow:hidden\"><b>прогнозування</b></div>"
      ]
    },
    {
      "cell_type": "code",
      "execution_count": 16,
      "metadata": {},
      "outputs": [],
      "source": [
        "test = pd.read_csv(\"data/test.csv\")\n",
        "\n",
        "path_to_images = \"data/images/test/\"\n",
        "test['image_path'] = path_to_images + test['PetID'].astype(str) + \"-1.jpg\"\n",
        "\n",
        "test['Description'] = test['Description'].apply(normalize_text)\n",
        "\n",
        "test_ds = PetDataset(test, tfidf, img_transforms, is_test=True)\n",
        "test_loader = DataLoader(test_ds, batch_size=BATCH_SIZE)"
      ]
    },
    {
      "cell_type": "code",
      "execution_count": 17,
      "metadata": {},
      "outputs": [
        {
          "name": "stdout",
          "output_type": "stream",
          "text": [
            "Image not found: data/images/test/95314294-1.jpg\n",
            "Image not found: data/images/test/35992662-1.jpg\n",
            "Image not found: data/images/test/63521459-1.jpg\n",
            "Image not found: data/images/test/81301773-1.jpg\n"
          ]
        }
      ],
      "source": [
        "model.eval()\n",
        "preds = []\n",
        "with torch.no_grad():\n",
        "    for batch in test_loader:\n",
        "        images = batch['image'].to(DEVICE)\n",
        "        texts = batch['text'].to(DEVICE)\n",
        "        outputs = model((images, texts))\n",
        "        pred_labels = outputs.argmax(dim=1).cpu().numpy()\n",
        "        preds.extend(pred_labels)"
      ]
    },
    {
      "cell_type": "code",
      "execution_count": 18,
      "metadata": {},
      "outputs": [
        {
          "data": {
            "application/vnd.microsoft.datawrangler.viewer.v0+json": {
              "columns": [
                {
                  "name": "index",
                  "rawType": "int64",
                  "type": "integer"
                },
                {
                  "name": "PetID",
                  "rawType": "object",
                  "type": "string"
                },
                {
                  "name": "Description",
                  "rawType": "object",
                  "type": "string"
                },
                {
                  "name": "image_path",
                  "rawType": "object",
                  "type": "string"
                },
                {
                  "name": "AdoptionSpeed",
                  "rawType": "int64",
                  "type": "integer"
                }
              ],
              "ref": "ad4c764e-ebf3-4ba9-8528-19070015761c",
              "rows": [
                [
                  "0",
                  "6697a7f62",
                  "cute little puppy look love home smart lovable love cuddle play interested provide forever home call drop text",
                  "data/images/test/6697a7f62-1.jpg",
                  "4"
                ],
                [
                  "1",
                  "23b64fe21",
                  "puppy rescue mechanic shop sentul apparently manage save initially puppy also really energetic playful love enthusiasm adorableness hence anyone interested adopting provide good home please feel free what app callmohan orcharlie would prefer whatsapp student class often",
                  "data/images/test/23b64fe21-1.jpg",
                  "1"
                ],
                [
                  "2",
                  "41e824cbe",
                  "ara need forever home believe he really sweet guy here story ara find along jalan cempaka kg sg kayu ara th april wire cable wrap tightly around leave hind leg cut almost bone render leg useless rescue take vet thankfully ara rescue early enough infection leg save almost heal appear longterm damage fact ara able put weight leg run jump amazing jumper play like dog ara fosterer since st april resource stretch dog therefore since send paw animal welfare society rd june vet fosterer ara mild case tick fever also address urge kind soul adopt ara bring home he wellmannere friendly dog penchant playing ball shuttlecock easy bathe walk good child include young one behaviour mannerism ara likely someone else pet also street smart doubt due time stray please give ara home really hope do not go back stray thank consideration please share may visit paw please quote tag number list next name top page staff paw paw animal welfare society pilmoor estate subang airport road subang selangor malaysia",
                  "data/images/test/41e824cbe-1.jpg",
                  "4"
                ],
                [
                  "3",
                  "6c3d7237b",
                  "rescue homeless dog year ago parent allow keep home keep hostel every sem break need send dog pet shop sem break vacation month cause hundred ringgit student can not afford keep since need send pet shop every month money leave last time send pet shop cny holiday hope help find owner want abandon street thx alot pls help",
                  "data/images/test/6c3d7237b-1.jpg",
                  "3"
                ],
                [
                  "4",
                  "97b0b5d92",
                  "find shopping mall clean state hi active hope give new home",
                  "data/images/test/97b0b5d92-1.jpg",
                  "4"
                ],
                [
                  "5",
                  "5eb355cea",
                  "jane austen two adorable sibling upright ear sharp feature ie pinscher family rescue dbkl pound february jane sweet manja like cuddle close brother austen curious dog like explore new thing alert playful obedient know sit toilet train pls give love home",
                  "data/images/test/5eb355cea-1.jpg",
                  "1"
                ],
                [
                  "6",
                  "bf2b57c9d",
                  "month old kitten adoption healthy weanedthis kitten find abandon alone without mother irresponsible person office building bangi interested adopter please whatapp location bangi kajang",
                  "data/images/test/bf2b57c9d-1.jpg",
                  "1"
                ],
                [
                  "7",
                  "4f6029457",
                  "adorable playful kitten can not take care coz already cat home neuter mom get pregnant could neuter adopter must love sincere take good care kitten give premium food vaccination preferably neuter reach month old",
                  "data/images/test/4f6029457-1.jpg",
                  "1"
                ],
                [
                  "8",
                  "fe09dbb56",
                  "sangat jinakdirescue dari kedai makan kerana jalan terhenjuthenjut",
                  "data/images/test/fe09dbb56-1.jpg",
                  "1"
                ],
                [
                  "9",
                  "9b3e95995",
                  "bailey journey tuesday lunch time ve find abandon dog skin problem two car apart whisper need help come take regular vet checkup skin problem contagious need long time recover demodex name bailey age year old female vaccinate neuter oct know sit stay come wipe mummum food poo pee balcony instead inside cage she happy playful dog afraid human crowd time need gain trust currently foster dog create strain marriage past month thank bottom heart month since bailey reside regular vet incur much financial solo rescuer help would able continue rescue mission she long abandon dog anymore name currently nurse create problem home try shelter use fit take visit place make sure shelter reject pledge respect decision make one step away find good owner could lend hand find one please",
                  "data/images/test/9b3e95995-1.jpg",
                  "4"
                ],
                [
                  "10",
                  "409ccc60e",
                  "golden retriever labrador mix give birth adorbale cutie grow fast book interested theyr almost month old walk lil wobbly theyr get serious love people plz whatsapp",
                  "data/images/test/409ccc60e-1.jpg",
                  "4"
                ],
                [
                  "11",
                  "ef7ffcc3e",
                  "anak bulus comel dan aktif metro kajang selsema sakit mata dah sembuh cute active kitty metro kajang flu eye infection recover sori untuk adopter keluarga shj sorry student adoption",
                  "data/images/test/ef7ffcc3e-1.jpg",
                  "2"
                ],
                [
                  "12",
                  "be0888771",
                  "hi name odin get hurt nasty cat fight ok though vet pro lose right eye gain badass scar seek human companion foster careadoption would like human please submit application",
                  "data/images/test/be0888771-1.jpg",
                  "2"
                ],
                [
                  "13",
                  "7cdd625cc",
                  "mother cat miao mai come house give birth kitten month ago girl survive date sure age mother kitten month old yellow one tiger girl mix colour one call marble mother love take good care kitten healthy active toilet train recently management community receive complaint cat wander around cause nuisance therefore choice give away unable keep indoor interested adopter please call darrenjacqueline ps prefer adopter take happy family well keep together thank",
                  "data/images/test/7cdd625cc-1.jpg",
                  "4"
                ],
                [
                  "14",
                  "f7550219b",
                  "girl power puppy nice mixture color healthy condition",
                  "data/images/test/f7550219b-1.jpg",
                  "2"
                ],
                [
                  "15",
                  "95b94b4ac",
                  "pet mth old healthy condition",
                  "data/images/test/95b94b4ac-1.jpg",
                  "4"
                ],
                [
                  "16",
                  "a7d9451a5",
                  "adorable cutenessoverload puppy rescue friend male month old shitzu mix foster pet pet shop kota kemune shah alam view puppy pls call angel petnanny go directly pet",
                  "data/images/test/a7d9451a5-1.jpg",
                  "2"
                ],
                [
                  "17",
                  "b51b41933",
                  "gentle friendly lovely cuddly cat hunt home psst nag temperament perfect sure hahahaa",
                  "data/images/test/b51b41933-1.jpg",
                  "4"
                ],
                [
                  "18",
                  "4cfd0fac0",
                  "junemohawk trappednever life ever confine look foot away crowd inquisitive eye hostilityworst still strike skull end medusa shape wound raw flesh expose pic naturally traumatise could blame behave aggressively near cage try frighten intruder away save skin else animal confine cage amidst crowd mill peoplehe euthanized sas think otherwise take we month trust uswe name mohawk colouring like red indian band white rich brown diagonally across neckhis ear uprighthis chest white white sock bushy tail furthermore move hunt mohawk aggressive infact play like child ketum dog play like kid do not play aggressive manner time like come near lift kennel hand skirthe love name prick ear whenever call teenager lad tell dad look like film star indeed want mohawk ia beauty must space one care enough build bond willbe proud give presence",
                  "data/images/test/4cfd0fac0-1.jpg",
                  "4"
                ],
                [
                  "19",
                  "68c69f5c1",
                  "whatsapp",
                  "data/images/test/68c69f5c1-1.jpg",
                  "4"
                ],
                [
                  "20",
                  "b71eb2942",
                  "shaggy buy directly breeder month old birthday daughter esther bottled fed care love dearly young daughter give we many many fond memory shaggy perfect health fed premium quality dog food nutro choice",
                  "data/images/test/b71eb2942-1.jpg",
                  "3"
                ],
                [
                  "21",
                  "9ba11975b",
                  "brownie recently rescue together sibling she cutie already act smart playful lovable let give home full love brownie beautiful fur mix brown black grey colour will not big dog rather smallmedium size she currently house selayang area pls call adoption",
                  "data/images/test/9ba11975b-1.jpg",
                  "3"
                ],
                [
                  "22",
                  "97916de84",
                  "mother give birth puppy unfortunately die remain puppy need find home currently live office lot behind guardhouse unable find adopter owner need chase away grow soon run around",
                  "data/images/test/97916de84-1.jpg",
                  "3"
                ],
                [
                  "23",
                  "bd0bfa1f6",
                  "black color hav white stripes round short bunch hairball adorable playful toilet train mix persian way still small ge spayedneutere calltext afiq",
                  "data/images/test/bd0bfa1f6-1.jpg",
                  "1"
                ],
                [
                  "24",
                  "699365a99",
                  "man women good friend thank adopt ms teoh johor",
                  "data/images/test/699365a99-1.jpg",
                  "4"
                ],
                [
                  "25",
                  "684567fc4",
                  "stunning golden kitten find wander around park multiple day usually famish see little boy delightful charming outgoing personality want cuddle already take solid food potential adopter must willing spay vaccinate love indoor cat experience cat big plus family young child place heart home adorable kitten please get touch",
                  "data/images/test/684567fc4-1.jpg",
                  "4"
                ],
                [
                  "26",
                  "3ca4780f5",
                  "pepper rescue way back home parking areahe weak cover black oil stain decide foster meet purrfect cat lover cute lovely gentle kitten kindly contact info thank neuter deposit rm return adopter neuter six month old",
                  "data/images/test/3ca4780f5-1.jpg",
                  "1"
                ],
                [
                  "27",
                  "9e876d171",
                  "burmilla mix ah pong mean fluffy mandarin find ah pong somewhere near housing area ah pong get adorable special meow sound go spay soon please do not judge age still playful adorable girl although estimate around year old kindly give chance companionshe indeed sweet girl anyone would like adopt kindly contact miss mr",
                  "data/images/test/9e876d171-1.jpg",
                  "4"
                ],
                [
                  "28",
                  "25c1c662b",
                  "cute hyperactive love cuddle much handsome already bath several time toilet train eat soft kibble please adopt rescue cat future",
                  "data/images/test/25c1c662b-1.jpg",
                  "1"
                ],
                [
                  "29",
                  "9c833c8c4",
                  "hi kadi drop together sister brother outside empty shop lot without mother live foster parent brother sister already adopt anybody want playful bit naughty would make sure man good friend top sis get adopt today aloneplease anyone",
                  "data/images/test/9c833c8c4-1.jpg",
                  "3"
                ],
                [
                  "30",
                  "cf98480e0",
                  "baby cute lovely boy he sweet odorable manja also timid boy due personal reason must let go new good owner look lovely forever home hope someone really take good care love nice could spend time treat baby well anyone interested pls whatsapp sm grace thank view post hope share",
                  "data/images/test/cf98480e0-1.jpg",
                  "4"
                ],
                [
                  "31",
                  "ecb6979fa",
                  "kaira kitten area gombak self pickup cause do not transport interested contact nurul",
                  "data/images/test/ecb6979fa-1.jpg",
                  "1"
                ],
                [
                  "32",
                  "11948e0ef",
                  "isaac rescue street grow sweet obedient boy sparkly eye sure melt everyone heart sweetheart live overcrowded foster may able keep long isaac playful energetic boy also intelligent enough obey command need true home patient young pup able takein isaac part family please feel free contact we",
                  "data/images/test/11948e0ef-1.jpg",
                  "4"
                ],
                [
                  "33",
                  "31893804f",
                  "look good home cross breed puppy month old smart naturally clean pup sha pei rottweiler golden retriever bloodline give love home please thank",
                  "data/images/test/31893804f-1.jpg",
                  "4"
                ],
                [
                  "34",
                  "87554ea1f",
                  "two chihuahua cross pup brother golden one timid stranger bark black one strong silent one observe adopter must vaccinate neuter please call interested",
                  "data/images/test/87554ea1f-1.jpg",
                  "2"
                ],
                [
                  "35",
                  "0fd9076d7",
                  "adoption",
                  "data/images/test/0fd9076d7-1.jpg",
                  "4"
                ],
                [
                  "36",
                  "8a7860ee2",
                  "candy find november kelana jaya one fine morning walk aimlessly along bus stop nearly knock car ply along ss dog appear dehydate seem wihtout food probably week dog board clinic find heartworm stage date dog undergo treatment need go good home treatment complete good temparent well behave good guard dog",
                  "data/images/test/8a7860ee2-1.jpg",
                  "4"
                ],
                [
                  "37",
                  "89bac4c29",
                  "adopter must spay she month old must stay landed house",
                  "data/images/test/89bac4c29-1.jpg",
                  "4"
                ],
                [
                  "38",
                  "21493e6ea",
                  "nala cat that bear finger front paw toe back paw inherit mother toe paw peach cat look like father orange white tone fur",
                  "data/images/test/21493e6ea-1.jpg",
                  "4"
                ],
                [
                  "39",
                  "de7905c9c",
                  "quiet dog like stay alone do not mix much sibling coz do not want fight other",
                  "data/images/test/de7905c9c-1.jpg",
                  "4"
                ],
                [
                  "40",
                  "6d53b2d19",
                  "adorable domestic long hair kitten look new home calico kitten tricolour white orange black month old beautiful thick long hair big round dark blue eye white leg look like wear white sock still milk feed mom start eat wet food can fish already healthy active playful like jump around garden like bunny toilet training potty could let go soon rm adoption fee would pay cat charity club ccc rescue stray cat another rm neuter spay deposit would fully refundable surgery do anyone interested please call",
                  "data/images/test/6d53b2d19-1.jpg",
                  "1"
                ],
                [
                  "41",
                  "64c4f9057",
                  "hi rescue vee nearby restaurant week ago flu heavily infest flea still playful current status healthy still antibiotic flu free flea antibiotic have not take deworm medication vaccination would much handle info vet adoption fee cover medical sustenance cost cat home do not intend make profit adoption interested bring carrier fetch place cash carry",
                  "data/images/test/64c4f9057-1.jpg",
                  "4"
                ],
                [
                  "42",
                  "9f40dbc58",
                  "puppy good health cute adorable please give chance love every live life deserve home adopter need cover spay neutering fee",
                  "data/images/test/9f40dbc58-1.jpg",
                  "4"
                ],
                [
                  "43",
                  "6f358dea9",
                  "train use litter box friendly attach owner hyperactive naughty love cuddle suitable indoor busy owner",
                  "data/images/test/6f358dea9-1.jpg",
                  "4"
                ],
                [
                  "44",
                  "16d4039e7",
                  "quiet adorable feel threaten adult cat come round especially male cat alright kitten toilet train",
                  "data/images/test/16d4039e7-1.jpg",
                  "1"
                ],
                [
                  "45",
                  "c634af483",
                  "greeting dog lover simba sandy sister kinda stick together time really really cute find rescue family member month old parent always want put adoption already dog leave overseas study however worry much help search perfect owner honest really reluctant give away find website basic info name simba name lion call simba lion king due fur colour golden brown fur head toe pair sparkle golden brown eye cute pinky brown nose active friendly little shy come meet stranger however believe day fine friendly stranger love run around nap tired running simba big sister sandy sandy always follow simba around whenever go besides also love believe less good popular dog breed like golden retriever name sandy sister simba name squirrel call sandy spongebob personality completely opposite squirrel spongebob thought would cute name sandy short shiny coated black fur head toe innocent pair black eye black nose personality similar simba shy active love run around love innocent perfect family dog guard house pretty well funfact make adorable afraid firework always wag tail home love pet never get sick compliment simply super adorable lovable",
                  "data/images/test/c634af483-1.jpg",
                  "4"
                ],
                [
                  "46",
                  "c1db71d88",
                  "puppy zorro rescue bring vet health check vaccinate deworm bright little girl playful make noise hungry",
                  "data/images/test/c1db71d88-1.jpg",
                  "2"
                ],
                [
                  "47",
                  "7d2e1dd01",
                  "lil puppy currently take shelter spca seberang perai interested adopt may contact we via email",
                  "data/images/test/7d2e1dd01-1.jpg",
                  "1"
                ],
                [
                  "48",
                  "e77941c00",
                  "find yesterday night pandan indah middle road traffic light seem lose keep approach hide stranger car stop dangerous cause traffic jam take think he abandon currently place bandar sungai long capable take care student renting room",
                  "data/images/test/e77941c00-1.jpg",
                  "4"
                ],
                [
                  "49",
                  "228e88a51",
                  "foster foreign family leave country",
                  "data/images/test/228e88a51-1.jpg",
                  "3"
                ]
              ],
              "shape": {
                "columns": 4,
                "rows": 1891
              }
            },
            "text/html": [
              "<div>\n",
              "<style scoped>\n",
              "    .dataframe tbody tr th:only-of-type {\n",
              "        vertical-align: middle;\n",
              "    }\n",
              "\n",
              "    .dataframe tbody tr th {\n",
              "        vertical-align: top;\n",
              "    }\n",
              "\n",
              "    .dataframe thead th {\n",
              "        text-align: right;\n",
              "    }\n",
              "</style>\n",
              "<table border=\"1\" class=\"dataframe\">\n",
              "  <thead>\n",
              "    <tr style=\"text-align: right;\">\n",
              "      <th></th>\n",
              "      <th>PetID</th>\n",
              "      <th>Description</th>\n",
              "      <th>image_path</th>\n",
              "      <th>AdoptionSpeed</th>\n",
              "    </tr>\n",
              "  </thead>\n",
              "  <tbody>\n",
              "    <tr>\n",
              "      <th>0</th>\n",
              "      <td>6697a7f62</td>\n",
              "      <td>cute little puppy look love home smart lovable...</td>\n",
              "      <td>data/images/test/6697a7f62-1.jpg</td>\n",
              "      <td>4</td>\n",
              "    </tr>\n",
              "    <tr>\n",
              "      <th>1</th>\n",
              "      <td>23b64fe21</td>\n",
              "      <td>puppy rescue mechanic shop sentul apparently m...</td>\n",
              "      <td>data/images/test/23b64fe21-1.jpg</td>\n",
              "      <td>1</td>\n",
              "    </tr>\n",
              "    <tr>\n",
              "      <th>2</th>\n",
              "      <td>41e824cbe</td>\n",
              "      <td>ara need forever home believe he really sweet ...</td>\n",
              "      <td>data/images/test/41e824cbe-1.jpg</td>\n",
              "      <td>4</td>\n",
              "    </tr>\n",
              "    <tr>\n",
              "      <th>3</th>\n",
              "      <td>6c3d7237b</td>\n",
              "      <td>rescue homeless dog year ago parent allow keep...</td>\n",
              "      <td>data/images/test/6c3d7237b-1.jpg</td>\n",
              "      <td>3</td>\n",
              "    </tr>\n",
              "    <tr>\n",
              "      <th>4</th>\n",
              "      <td>97b0b5d92</td>\n",
              "      <td>find shopping mall clean state hi active hope ...</td>\n",
              "      <td>data/images/test/97b0b5d92-1.jpg</td>\n",
              "      <td>4</td>\n",
              "    </tr>\n",
              "    <tr>\n",
              "      <th>...</th>\n",
              "      <td>...</td>\n",
              "      <td>...</td>\n",
              "      <td>...</td>\n",
              "      <td>...</td>\n",
              "    </tr>\n",
              "    <tr>\n",
              "      <th>1886</th>\n",
              "      <td>986e26eeb</td>\n",
              "      <td>give stray kitten home may save life much want...</td>\n",
              "      <td>data/images/test/986e26eeb-1.jpg</td>\n",
              "      <td>2</td>\n",
              "    </tr>\n",
              "    <tr>\n",
              "      <th>1887</th>\n",
              "      <td>9b2316d19</td>\n",
              "      <td>reno affectionate playful boy smart alert frie...</td>\n",
              "      <td>data/images/test/9b2316d19-1.jpg</td>\n",
              "      <td>4</td>\n",
              "    </tr>\n",
              "    <tr>\n",
              "      <th>1888</th>\n",
              "      <td>c60193e34</td>\n",
              "      <td>spot active playful like run around play sibli...</td>\n",
              "      <td>data/images/test/c60193e34-1.jpg</td>\n",
              "      <td>1</td>\n",
              "    </tr>\n",
              "    <tr>\n",
              "      <th>1889</th>\n",
              "      <td>4f7a70728</td>\n",
              "      <td>hello give love warm forever home please conta...</td>\n",
              "      <td>data/images/test/4f7a70728-1.jpg</td>\n",
              "      <td>4</td>\n",
              "    </tr>\n",
              "    <tr>\n",
              "      <th>1890</th>\n",
              "      <td>9e758c0b0</td>\n",
              "      <td>find kitten storei think bear never hear voice...</td>\n",
              "      <td>data/images/test/9e758c0b0-1.jpg</td>\n",
              "      <td>1</td>\n",
              "    </tr>\n",
              "  </tbody>\n",
              "</table>\n",
              "<p>1891 rows × 4 columns</p>\n",
              "</div>"
            ],
            "text/plain": [
              "          PetID                                        Description  \\\n",
              "0     6697a7f62  cute little puppy look love home smart lovable...   \n",
              "1     23b64fe21  puppy rescue mechanic shop sentul apparently m...   \n",
              "2     41e824cbe  ara need forever home believe he really sweet ...   \n",
              "3     6c3d7237b  rescue homeless dog year ago parent allow keep...   \n",
              "4     97b0b5d92  find shopping mall clean state hi active hope ...   \n",
              "...         ...                                                ...   \n",
              "1886  986e26eeb  give stray kitten home may save life much want...   \n",
              "1887  9b2316d19  reno affectionate playful boy smart alert frie...   \n",
              "1888  c60193e34  spot active playful like run around play sibli...   \n",
              "1889  4f7a70728  hello give love warm forever home please conta...   \n",
              "1890  9e758c0b0  find kitten storei think bear never hear voice...   \n",
              "\n",
              "                            image_path  AdoptionSpeed  \n",
              "0     data/images/test/6697a7f62-1.jpg              4  \n",
              "1     data/images/test/23b64fe21-1.jpg              1  \n",
              "2     data/images/test/41e824cbe-1.jpg              4  \n",
              "3     data/images/test/6c3d7237b-1.jpg              3  \n",
              "4     data/images/test/97b0b5d92-1.jpg              4  \n",
              "...                                ...            ...  \n",
              "1886  data/images/test/986e26eeb-1.jpg              2  \n",
              "1887  data/images/test/9b2316d19-1.jpg              4  \n",
              "1888  data/images/test/c60193e34-1.jpg              1  \n",
              "1889  data/images/test/4f7a70728-1.jpg              4  \n",
              "1890  data/images/test/9e758c0b0-1.jpg              1  \n",
              "\n",
              "[1891 rows x 4 columns]"
            ]
          },
          "execution_count": 18,
          "metadata": {},
          "output_type": "execute_result"
        }
      ],
      "source": [
        "preds = le.inverse_transform(preds)\n",
        "test['AdoptionSpeed'] = preds\n",
        "test"
      ]
    },
    {
      "cell_type": "code",
      "execution_count": null,
      "metadata": {},
      "outputs": [],
      "source": [
        "test[['PetID', 'AdoptionSpeed']].to_csv(\"my_submission.csv\", index=False)"
      ]
    }
  ],
  "metadata": {
    "colab": {
      "provenance": []
    },
    "kernelspec": {
      "display_name": "goit",
      "language": "python",
      "name": "python3"
    },
    "language_info": {
      "codemirror_mode": {
        "name": "ipython",
        "version": 3
      },
      "file_extension": ".py",
      "mimetype": "text/x-python",
      "name": "python",
      "nbconvert_exporter": "python",
      "pygments_lexer": "ipython3",
      "version": "3.10.16"
    }
  },
  "nbformat": 4,
  "nbformat_minor": 0
}
